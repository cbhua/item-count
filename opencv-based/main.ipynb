{
 "metadata": {
  "language_info": {
   "codemirror_mode": {
    "name": "ipython",
    "version": 3
   },
   "file_extension": ".py",
   "mimetype": "text/x-python",
   "name": "python",
   "nbconvert_exporter": "python",
   "pygments_lexer": "ipython3",
   "version": "3.8.7-final"
  },
  "orig_nbformat": 2,
  "kernelspec": {
   "name": "python3",
   "display_name": "Python 3",
   "language": "python"
  }
 },
 "nbformat": 4,
 "nbformat_minor": 2,
 "cells": [
  {
   "cell_type": "code",
   "execution_count": 26,
   "metadata": {},
   "outputs": [],
   "source": [
    "# Packages\n",
    "\n",
    "import cv2 \n",
    "import numpy as np\n",
    "import matplotlib.pyplot as plt"
   ]
  },
  {
   "cell_type": "code",
   "execution_count": 27,
   "metadata": {},
   "outputs": [],
   "source": [
    "# Load Data\n",
    "\n",
    "img = cv2.imread(\"img/input4.jpg\") "
   ]
  },
  {
   "cell_type": "code",
   "execution_count": 28,
   "metadata": {},
   "outputs": [
    {
     "output_type": "execute_result",
     "data": {
      "text/plain": [
       "array([[  0,   0,   0, ..., 120, 120, 120],\n",
       "       [  0,   0,   0, ..., 120, 120, 120],\n",
       "       [  0,   0,   0, ..., 255, 120, 120],\n",
       "       ...,\n",
       "       [120, 120, 120, ...,   0,   0,   0],\n",
       "       [120, 120, 120, ...,   0,   0,   0],\n",
       "       [120, 120, 120, ...,   0,   0,   0]], dtype=uint8)"
      ]
     },
     "metadata": {},
     "execution_count": 28
    }
   ],
   "source": [
    "# Grayscale\n",
    "gray = cv2.cvtColor(img,cv2.COLOR_BGR2GRAY)\n",
    "\n",
    "# Binarization\n",
    "dst = cv2.adaptiveThreshold(gray, 255, cv2.ADAPTIVE_THRESH_MEAN_C, cv2.THRESH_BINARY, 101, 1)\n",
    "\n",
    "# Noise Remove\n",
    "element = cv2.getStructuringElement(cv2.MORPH_CROSS, (3, 3))\n",
    "dst = cv2.morphologyEx(dst, cv2.MORPH_OPEN, element) \n",
    "\n",
    "# Edge Detector\n",
    "contours, hierarchy = cv2.findContours(dst, cv2.RETR_EXTERNAL, cv2.CHAIN_APPROX_SIMPLE) \n",
    "\n",
    "# Draw the Edge\n",
    "cv2.drawContours(dst, contours, -1, (120, 0, 0), 2)"
   ]
  },
  {
   "cell_type": "code",
   "execution_count": 29,
   "metadata": {},
   "outputs": [],
   "source": [
    "# Process\n",
    "\n",
    "count = 0\n",
    "ares_avrg = 0\n",
    "\n",
    "for cont in contours:\n",
    "    # Count Number\n",
    "    ares = cv2.contourArea(cont)\n",
    "    if ares < 20: \n",
    "        continue\n",
    "    count += 1 \n",
    "    ares_avrg += ares\n",
    "\n",
    "    # Plot Squares\n",
    "    rect = cv2.boundingRect(cont)\n",
    "    cv2.rectangle(img, rect, (0, 0, 0xff), 1)\n",
    "    y = 10 if rect[1] < 10 else rect[1]\n",
    "    cv2.putText(img,str(count), (rect[0], y), cv2.FONT_HERSHEY_COMPLEX, 0.4, (0, 255, 0), 1)"
   ]
  },
  {
   "cell_type": "code",
   "execution_count": 30,
   "metadata": {},
   "outputs": [
    {
     "output_type": "execute_result",
     "data": {
      "text/plain": [
       "True"
      ]
     },
     "metadata": {},
     "execution_count": 30
    }
   ],
   "source": [
    "# Show Results\n",
    "\n",
    "cv2.imwrite('img/output4.jpg', img)"
   ]
  }
 ]
}